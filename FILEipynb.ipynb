{
  "nbformat": 4,
  "nbformat_minor": 0,
  "metadata": {
    "colab": {
      "provenance": [],
      "authorship_tag": "ABX9TyO6GLrdIJFDCsevzGLNneUx",
      "include_colab_link": true
    },
    "kernelspec": {
      "name": "python3",
      "display_name": "Python 3"
    },
    "language_info": {
      "name": "python"
    }
  },
  "cells": [
    {
      "cell_type": "markdown",
      "metadata": {
        "id": "view-in-github",
        "colab_type": "text"
      },
      "source": [
        "<a href=\"https://colab.research.google.com/github/oshin-verma/data-/blob/main/FILEipynb.ipynb\" target=\"_parent\"><img src=\"https://colab.research.google.com/assets/colab-badge.svg\" alt=\"Open In Colab\"/></a>"
      ]
    },
    {
      "cell_type": "code",
      "execution_count": null,
      "metadata": {
        "id": "D6AcS3SYW_Gx"
      },
      "outputs": [],
      "source": []
    },
    {
      "cell_type": "code",
      "source": [
        "import threading\n",
        "import time\n",
        "\n",
        "# Shared list\n",
        "numbers = []\n",
        "lock = threading.Lock()\n",
        "\n",
        "# Function to add numbers\n",
        "def add_numbers():\n",
        "    for i in range(1, 6):  # Adding 5 numbers\n",
        "        time.sleep(0.5)  # Simulating delay\n",
        "        with lock:  # Locking the resource\n",
        "            numbers.append(i)\n",
        "            print(f\"Added: {i}\")\n",
        "\n",
        "# Function to remove numbers\n",
        "def remove_numbers():\n",
        "    for _ in range(5):  # Removing 5 numbers\n",
        "        time.sleep(1)  # Simulating delay\n",
        "        with lock:  # Locking the resource\n",
        "            if numbers:\n",
        "                removed = numbers.pop(0)\n",
        "                print(f\"Removed: {removed}\")\n",
        "\n",
        "# Creating threads\n",
        "t1 = threading.Thread(target=add_numbers)\n",
        "t2 = threading.Thread(target=remove_numbers)\n",
        "\n",
        "# Starting threads\n",
        "t1.start()\n",
        "t2.start()\n",
        "\n",
        "# Waiting for both threads to finish\n",
        "t1.join()\n",
        "t2.join()\n",
        "\n",
        "print(\"Final list:\", numbers)"
      ],
      "metadata": {
        "colab": {
          "base_uri": "https://localhost:8080/"
        },
        "id": "Otwbpie6XDgR",
        "outputId": "1ee27671-5351-4c2a-8fa8-94581cd7d69b"
      },
      "execution_count": 1,
      "outputs": [
        {
          "output_type": "stream",
          "name": "stdout",
          "text": [
            "Added: 1\n",
            "Added: 2\n",
            "Removed: 1\n",
            "Added: 3\n",
            "Added: 4\n",
            "Removed: 2\n",
            "Added: 5\n",
            "Removed: 3\n",
            "Removed: 4\n",
            "Removed: 5\n",
            "Final list: []\n"
          ]
        }
      ]
    },
    {
      "cell_type": "code",
      "source": [
        "import concurrent.futures\n",
        "import math\n",
        "\n",
        "# Function to compute factorial\n",
        "def calculate_factorial(n):\n",
        "    return f\"Factorial of {n} is {math.factorial(n)}\"\n",
        "\n",
        "# Create a thread pool\n",
        "with concurrent.futures.ThreadPoolExecutor(max_workers=5) as executor:\n",
        "    # Submit tasks to the thread pool\n",
        "    results = executor.map(calculate_factorial, range(1, 11))\n",
        "\n",
        "# Print results\n",
        "for result in results:\n",
        "    print(result)"
      ],
      "metadata": {
        "colab": {
          "base_uri": "https://localhost:8080/"
        },
        "id": "GeywnzkVYya8",
        "outputId": "70a94c3a-57dd-4456-87e2-ab737633360f"
      },
      "execution_count": 2,
      "outputs": [
        {
          "output_type": "stream",
          "name": "stdout",
          "text": [
            "Factorial of 1 is 1\n",
            "Factorial of 2 is 2\n",
            "Factorial of 3 is 6\n",
            "Factorial of 4 is 24\n",
            "Factorial of 5 is 120\n",
            "Factorial of 6 is 720\n",
            "Factorial of 7 is 5040\n",
            "Factorial of 8 is 40320\n",
            "Factorial of 9 is 362880\n",
            "Factorial of 10 is 3628800\n"
          ]
        }
      ]
    },
    {
      "cell_type": "code",
      "source": [
        "import multiprocessing\n",
        "import time\n",
        "\n",
        "# Function to compute the square of a number\n",
        "def square(n):\n",
        "    return n * n\n",
        "\n",
        "# List of numbers to process\n",
        "numbers = list(range(1, 11))\n",
        "\n",
        "# Function to measure execution time with different pool sizes\n",
        "def measure_execution_time(pool_size):\n",
        "    start_time = time.time()\n",
        "\n",
        "    with multiprocessing.Pool(pool_size) as pool:\n",
        "        results = pool.map(square, numbers)\n",
        "\n",
        "    end_time = time.time()\n",
        "    print(f\"Pool Size: {pool_size} | Time Taken: {end_time - start_time:.4f} sec | Results: {results}\")\n",
        "\n",
        "# Test with different pool sizes\n",
        "for pool_size in [2, 4, 8]:\n",
        "    measure_execution_time(pool_size)"
      ],
      "metadata": {
        "colab": {
          "base_uri": "https://localhost:8080/"
        },
        "id": "jhFz6R31Y4Fr",
        "outputId": "bad20af0-69bf-43a7-ef6e-92d8978b0f6d"
      },
      "execution_count": 3,
      "outputs": [
        {
          "output_type": "stream",
          "name": "stdout",
          "text": [
            "Pool Size: 2 | Time Taken: 0.0393 sec | Results: [1, 4, 9, 16, 25, 36, 49, 64, 81, 100]\n",
            "Pool Size: 4 | Time Taken: 0.0482 sec | Results: [1, 4, 9, 16, 25, 36, 49, 64, 81, 100]\n",
            "Pool Size: 8 | Time Taken: 0.0673 sec | Results: [1, 4, 9, 16, 25, 36, 49, 64, 81, 100]\n"
          ]
        }
      ]
    }
  ]
}