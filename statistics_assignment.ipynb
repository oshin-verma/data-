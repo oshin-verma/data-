{
  "nbformat": 4,
  "nbformat_minor": 0,
  "metadata": {
    "colab": {
      "provenance": [],
      "authorship_tag": "ABX9TyPnQcnxPJ7fw2EVCNpx/uWB",
      "include_colab_link": true
    },
    "kernelspec": {
      "name": "python3",
      "display_name": "Python 3"
    },
    "language_info": {
      "name": "python"
    }
  },
  "cells": [
    {
      "cell_type": "markdown",
      "metadata": {
        "id": "view-in-github",
        "colab_type": "text"
      },
      "source": [
        "<a href=\"https://colab.research.google.com/github/oshin-verma/data-/blob/main/statistics_assignment.ipynb\" target=\"_parent\"><img src=\"https://colab.research.google.com/assets/colab-badge.svg\" alt=\"Open In Colab\"/></a>"
      ]
    },
    {
      "cell_type": "code",
      "source": [
        "# 1\n",
        "import numpy as np\n",
        "from scipy import stats\n",
        "\n",
        "# Set seed for reproducibility\n",
        "np.random.seed(42)\n",
        "\n",
        "# Generate a list of 100 random integers between 90 and 130 (inclusive)\n",
        "int_list = np.random.randint(90, 131, 100)\n",
        "\n",
        "# Example weights for weighted mean (same length as int_list)\n",
        "weights = np.random.randint(1, 5, 100)\n",
        "\n",
        "# (i) Mean and Median\n",
        "mean_value = np.mean(int_list)\n",
        "median_value = np.median(int_list)\n",
        "\n",
        "# (ii) Mode\n",
        "mode_result = stats.mode(int_list, keepdims=True)\n",
        "mode_value = mode_result.mode[0]\n",
        "mode_count = mode_result.count[0]\n",
        "\n",
        "# (iii) Weighted Mean\n",
        "weighted_mean_value = np.average(int_list, weights=weights)\n",
        "\n",
        "# (iv) Geometric Mean\n",
        "geometric_mean_value = stats.gmean(int_list)\n",
        "\n",
        "# (v) Harmonic Mean\n",
        "harmonic_mean_value = stats.hmean(int_list)\n",
        "\n",
        "# (vi) Midrange\n",
        "midrange_value = (np.min(int_list) + np.max(int_list)) / 2\n",
        "\n",
        "# (vii) Trimmed Mean (exclude 10% lowest and highest)\n",
        "trimmed_mean_value = stats.trim_mean(int_list, proportiontocut=0.1)\n",
        "\n",
        "# --- Display Results ---\n",
        "print(\"Generated List:\\n\", int_list)\n",
        "\n",
        "print(f\"\\n(i) Mean: {mean_value:.2f}\")\n",
        "print(f\"    Median: {median_value}\")\n",
        "\n",
        "print(f\"(ii) Mode: {mode_value} (appears {mode_count} times)\")\n",
        "\n",
        "print(f\"(iii) Weighted Mean: {weighted_mean_value:.2f}\")\n",
        "\n",
        "print(f\"(iv) Geometric Mean: {geometric_mean_value:.2f}\")\n",
        "\n",
        "print(f\"(v) Harmonic Mean: {harmonic_mean_value:.2f}\")\n",
        "\n",
        "print(f\"(vi) Midrange: {midrange_value:.2f}\")\n",
        "\n",
        "print(f\"(vii) Trimmed Mean (10% trimmed): {trimmed_mean_value:.2f}\")\n"
      ],
      "metadata": {
        "colab": {
          "base_uri": "https://localhost:8080/"
        },
        "id": "ZAwBswb6o5-y",
        "outputId": "e6559cf0-c27b-4297-f9e4-a7a633c6d709"
      },
      "execution_count": null,
      "outputs": [
        {
          "output_type": "stream",
          "name": "stdout",
          "text": [
            "Generated List:\n",
            " [128 118 104  97 110 128 108 112 100 100 113 125 129 113  92 111  91 113\n",
            " 119 127  91 110 122 101 111 114 116 117 105 104  92 126  96 110  98 128\n",
            " 107  93 114 103  98 115  91 109 117  96  97 124 103 106 125 129  93  91\n",
            "  95  93 118 107 115 123  99 125 103 120 104  97 103 112 129 110 105 107\n",
            " 113 115 114 130 118 104  90 114  96  98 113  90  97 113 100 106  97 124\n",
            " 124 122  94 128 130 117  96  98  97 101]\n",
            "\n",
            "(i) Mean: 108.94\n",
            "    Median: 109.5\n",
            "(ii) Mode: 97 (appears 6 times)\n",
            "(iii) Weighted Mean: 109.28\n",
            "(iv) Geometric Mean: 108.31\n",
            "(v) Harmonic Mean: 107.69\n",
            "(vi) Midrange: 110.00\n",
            "(vii) Trimmed Mean (10% trimmed): 108.67\n"
          ]
        }
      ]
    },
    {
      "source": [
        "#ans 2\n",
        "import numpy as np\n",
        "from scipy import stats as scipy_stats # Alias scipy.stats\n",
        "# import statistics as stats # Remove or alias differently if needed\n",
        "import matplotlib.pyplot as plt\n",
        "import seaborn as sns\n",
        "\n",
        "int_list2=np.random.randint(200,301,500)\n",
        "\n",
        "plt.figure(figsize=(10,6))\n",
        "\n",
        "# Corrected 'stats' to 'stat' and adjusted the alias\n",
        "sns.histplot(int_list2,bins=20,stat='density',color='blue',kde=True,label='frequency')\n",
        "\n",
        "# Note: The next line `plt.plot(x,y,label='gaussian',color='r')` will likely cause a NameError\n",
        "# because 'x' and 'y' are not defined. This part of the code wasn't the cause of the\n",
        "# current error but will be the next issue to address. You'll need to generate x and y\n",
        "# values for the Gaussian plot if you want to overlay one.\n",
        "plt.plot(x,y,label='gaussian',color='r')\n",
        "plt.legend()\n",
        "plt.show()\n",
        "\n",
        "\n",
        "\n",
        "plt.figure(figsize=(8, 5))\n",
        "sns.histplot(int_list2, bins=20, kde=True, stat='density', color='lightblue', edgecolor='black')\n",
        "plt.title(\"Frequency Histogram with Smoothened KDE\")\n",
        "plt.xlabel(\"Value\")\n",
        "plt.ylabel(\"Density\")\n",
        "plt.grid(True)\n",
        "plt.show()\n",
        "\n",
        "\n",
        "# Fit Gaussian curve to the data\n",
        "mean = np.mean(int_list2)\n",
        "std = np.std(int_list2)\n",
        "\n",
        "# Create x range\n",
        "x = np.linspace(min(int_list2), max(int_list2), 1000)\n",
        "gaussian = norm.pdf(x, mean, std)\n",
        "\n",
        "# KDE + Gaussian\n",
        "plt.figure(figsize=(8, 5))\n",
        "sns.kdeplot(int_list2, color='blue', label=\"KDE\", linewidth=2)\n",
        "plt.plot(x, gaussian, color='red', linestyle='--', label=\"Gaussian\", linewidth=2)\n",
        "plt.title(\"KDE Curve vs Gaussian Distribution\")\n",
        "plt.xlabel(\"Value\")\n",
        "plt.ylabel(\"Density\")\n",
        "plt.legend()\n",
        "plt.grid(True)\n",
        "plt.show()\n"
      ],
      "cell_type": "code",
      "metadata": {
        "colab": {
          "base_uri": "https://localhost:8080/",
          "height": 724
        },
        "id": "oO5lvInFGsLb",
        "outputId": "c511d538-55a5-4694-b00c-6a01ee98b8fb"
      },
      "execution_count": null,
      "outputs": [
        {
          "output_type": "error",
          "ename": "NameError",
          "evalue": "name 'x' is not defined",
          "traceback": [
            "\u001b[0;31m---------------------------------------------------------------------------\u001b[0m",
            "\u001b[0;31mNameError\u001b[0m                                 Traceback (most recent call last)",
            "\u001b[0;32m<ipython-input-32-0fbb71a8f7a0>\u001b[0m in \u001b[0;36m<cell line: 0>\u001b[0;34m()\u001b[0m\n\u001b[1;32m     17\u001b[0m \u001b[0;31m# current error but will be the next issue to address. You'll need to generate x and y\u001b[0m\u001b[0;34m\u001b[0m\u001b[0;34m\u001b[0m\u001b[0m\n\u001b[1;32m     18\u001b[0m \u001b[0;31m# values for the Gaussian plot if you want to overlay one.\u001b[0m\u001b[0;34m\u001b[0m\u001b[0;34m\u001b[0m\u001b[0m\n\u001b[0;32m---> 19\u001b[0;31m \u001b[0mplt\u001b[0m\u001b[0;34m.\u001b[0m\u001b[0mplot\u001b[0m\u001b[0;34m(\u001b[0m\u001b[0mx\u001b[0m\u001b[0;34m,\u001b[0m\u001b[0my\u001b[0m\u001b[0;34m,\u001b[0m\u001b[0mlabel\u001b[0m\u001b[0;34m=\u001b[0m\u001b[0;34m'gaussian'\u001b[0m\u001b[0;34m,\u001b[0m\u001b[0mcolor\u001b[0m\u001b[0;34m=\u001b[0m\u001b[0;34m'r'\u001b[0m\u001b[0;34m)\u001b[0m\u001b[0;34m\u001b[0m\u001b[0;34m\u001b[0m\u001b[0m\n\u001b[0m\u001b[1;32m     20\u001b[0m \u001b[0mplt\u001b[0m\u001b[0;34m.\u001b[0m\u001b[0mlegend\u001b[0m\u001b[0;34m(\u001b[0m\u001b[0;34m)\u001b[0m\u001b[0;34m\u001b[0m\u001b[0;34m\u001b[0m\u001b[0m\n\u001b[1;32m     21\u001b[0m \u001b[0mplt\u001b[0m\u001b[0;34m.\u001b[0m\u001b[0mshow\u001b[0m\u001b[0;34m(\u001b[0m\u001b[0;34m)\u001b[0m\u001b[0;34m\u001b[0m\u001b[0;34m\u001b[0m\u001b[0m\n",
            "\u001b[0;31mNameError\u001b[0m: name 'x' is not defined"
          ]
        },
        {
          "output_type": "display_data",
          "data": {
            "text/plain": [
              "<Figure size 1000x600 with 1 Axes>"
            ],
            "image/png": "[encoded data removed]"
          },
          "metadata": {}
        }
      ]
    },
    {
      "source": [
        "range=np.max(int_list2)-np.min(int_list2)\n",
        "print(f'range={range:.2f}')\n",
        "\n",
        "var=np.var(int_list2)\n",
        "print(f'variance={var:.2f}')\n",
        "\n",
        "std=np.std(int_list2)\n",
        "print(f'standard deviation={std:.2f}')\n",
        "\n",
        "qi=np.percentile(int_list2,25)\n",
        "print(f'first quartile={qi:.2f}')\n",
        "\n",
        "qd=np.percentile(int_list2,75)\n",
        "print(f'third quartile={qd:.2f}')\n",
        "\n",
        "iqr=qd-qi\n",
        "print(f'interquartile range={iqr:.2f}')\n",
        "\n",
        "cv=((std)/(np.mean(int_list2))) * 100\n",
        "print(f'coeff var={cv:.2f}')\n",
        "\n",
        "# (vi) Mean Absolute Deviation (MAD)\n",
        "mad=np.mean(np.abs(int_list2 - np.mean(int_list2)))\n",
        "print(f'mean abs={mad:.2f}')\n",
        "\n",
        "# (vii) Quartile Deviation (Semi-IQR)\n",
        "iqr= qd - qi # Removed leading space\n",
        "semi_iqr = 1.5 * iqr # Corrected variable name and removed leading space\n",
        "print(f'inter q={semi_iqr:.2f}')\n",
        "\n",
        "# (viii) Range-based Coefficient of Dispersion\n",
        "rbc= (np.max(int_list2) - np.min(int_list2)) / (np.max(int_list2) + np.min(int_list2))"
      ],
      "cell_type": "code",
      "metadata": {
        "colab": {
          "base_uri": "https://localhost:8080/"
        },
        "id": "hTfgAzJINZ6q",
        "outputId": "4553b532-456a-48bd-97f2-43b2bd66d911"
      },
      "execution_count": null,
      "outputs": [
        {
          "output_type": "stream",
          "name": "stdout",
          "text": [
            "range=100.00\n",
            "variance=850.02\n",
            "standard deviation=29.16\n",
            "first quartile=225.00\n",
            "third quartile=273.00\n",
            "interquartile range=48.00\n",
            "coeff var=11.70\n",
            "mean abs=25.13\n",
            "inter q=72.00\n"
          ]
        }
      ]
    },
    {
      "cell_type": "code",
      "source": [
        "class DiscreteRandomVariable:\n",
        "    def __init__(self, values, probabilities):\n",
        "        \"\"\"\n",
        "        values: list of possible outcomes (X)\n",
        "        probabilities: list of corresponding probabilities (P)\n",
        "        \"\"\"\n",
        "        if len(values) != len(probabilities):\n",
        "            raise ValueError(\"Values and probabilities must be of same length\")\n",
        "        if not abs(sum(probabilities) - 1.0) < 1e-6:\n",
        "            raise ValueError(\"Probabilities must sum to 1\")\n",
        "\n",
        "        self.values = values\n",
        "        self.probabilities = probabilities\n",
        "\n",
        "    def expected_value(self):\n",
        "        \"\"\"Calculate E(X) = Σ [x * P(x)]\"\"\"\n",
        "        return sum(x * p for x, p in zip(self.values, self.probabilities))\n",
        "\n",
        "    def variance(self):\n",
        "        \"\"\"Calculate Var(X) = E(X²) - [E(X)]²\"\"\"\n",
        "        mean = self.expected_value()\n",
        "        expected_square = sum((x ** 2) * p for x, p in zip(self.values, self.probabilities))\n",
        "        return expected_square - mean ** 2\n",
        "\n",
        "# --- Example usage ---\n",
        "values = [0, 1, 2, 3]\n",
        "probs = [0.1, 0.3, 0.4, 0.2]\n",
        "\n",
        "rv = DiscreteRandomVariable(values, probs)\n",
        "\n",
        "print(f\"Expected Value (E[X]): {rv.expected_value():.2f}\")\n",
        "print(f\"Variance (Var[X]): {rv.variance():.2f}\")\n"
      ],
      "metadata": {
        "colab": {
          "base_uri": "https://localhost:8080/"
        },
        "id": "7L1M1zYTQIXW",
        "outputId": "047711c7-c8d7-44c4-af07-fe7c093d94ea"
      },
      "execution_count": null,
      "outputs": [
        {
          "output_type": "stream",
          "name": "stdout",
          "text": [
            "Expected Value (E[X]): 1.70\n",
            "Variance (Var[X]): 0.81\n"
          ]
        }
      ]
    },
    {
      "source": [
        "die_roll=np.arange(1,7) # Corrected arrange to arange\n",
        "probab=np.full(6,1/6)\n",
        "expect=die_roll@probab\n",
        "print(f'expected value={expect:.2f}')\n",
        "var=np.sum((die_roll-expect)**2 * probab)\n",
        "print(f'variance={var:.2f}')"
      ],
      "cell_type": "code",
      "metadata": {
        "colab": {
          "base_uri": "https://localhost:8080/"
        },
        "id": "mz3Va3wTSAKX",
        "outputId": "efe26089-2ce4-41ca-ef57-3e4267c6e405"
      },
      "execution_count": null,
      "outputs": [
        {
          "output_type": "stream",
          "name": "stdout",
          "text": [
            "expected value=3.50\n",
            "variance=2.92\n"
          ]
        }
      ]
    },
    {
      "cell_type": "code",
      "source": [
        "lamda=4\n",
        "sample=np.random.poisson(lamda,size=10)\n",
        "mean=np.mean(sample)\n",
        "var=np.var(sample)\n",
        "print(f'mean={mean:.2f}')\n",
        "print(f'variance={var:.2f}')"
      ],
      "metadata": {
        "colab": {
          "base_uri": "https://localhost:8080/"
        },
        "id": "3aI-UReLSszu",
        "outputId": "be058725-fa15-4ab4-ada5-1e33f30a95cb"
      },
      "execution_count": null,
      "outputs": [
        {
          "output_type": "stream",
          "name": "stdout",
          "text": [
            "mean=4.20\n",
            "variance=1.36\n"
          ]
        }
      ]
    },
    {
      "cell_type": "code",
      "source": [
        "mean=0\n",
        "std=1\n",
        "data=np.random.normal(mean,std,size=10)\n",
        "mean=np.mean(data)\n",
        "stand=np.std(data)\n",
        "vari=np.var(data)\n",
        "print(f'mean={mean:.2f}')\n",
        "print(f'standard deviation={stand:.2f}')\n",
        "print(f'variance={vari:.2f}')"
      ],
      "metadata": {
        "colab": {
          "base_uri": "https://localhost:8080/"
        },
        "id": "lGyJ4wfrUK-M",
        "outputId": "00a4c8d0-e2d2-43bc-c506-e67fb586e2e0"
      },
      "execution_count": null,
      "outputs": [
        {
          "output_type": "stream",
          "name": "stdout",
          "text": [
            "mean=0.13\n",
            "standard deviation=0.80\n",
            "variance=0.63\n"
          ]
        }
      ]
    },
    {
      "source": [
        "import pandas as pd\n",
        "import numpy as np\n",
        "import matplotlib.pyplot as plt\n",
        "import seaborn as sns\n",
        "from scipy import stats\n",
        "\n",
        "\n",
        "# df=sns.load_dataset('tips')\n",
        "\n",
        "s = stats.skew(df['total_bill'])\n",
        "print(f'skewness={s:.2f}')\n",
        "\n",
        "shape = stats.kurtosis(df['total_bill'])\n",
        "print(f'kurtosis={shape:.2f}')\n",
        "\n",
        "# Calculate covariance using pandas\n",
        "covar = df['total_bill'].cov(df['tip'])\n",
        "print(f'covariance={covar:.2f}')\n",
        "\n",
        "corr, _ = stats.pearsonr(df['total_bill'], df['tip'])\n",
        "print(f'correlation={corr:.2f}')\n",
        "\n",
        "\n",
        "correlation = df['total_bill'].corr(df['tip'])\n",
        "print(f\"\\nCorrelation between 'total_bill' and 'tip': {correlation:.2f}\")\n",
        "\n",
        "# Create scatter plot - Corrected 'tips' to 'df'\n",
        "plt.figure(figsize=(8, 5))\n",
        "sns.scatterplot(x='total_bill', y='tip', data=df)\n",
        "plt.title(\"Scatter Plot: Total Bill vs Tip\")\n",
        "plt.xlabel(\"Total Bill ($)\")\n",
        "plt.ylabel(\"Tip ($)\")\n",
        "plt.grid(True)\n",
        "plt.show()"
      ],
      "cell_type": "code",
      "metadata": {
        "colab": {
          "base_uri": "https://localhost:8080/",
          "height": 596
        },
        "id": "69j3EUPqkNny",
        "outputId": "a26dac30-b362-44f6-c97c-303444932cbf"
      },
      "execution_count": null,
      "outputs": [
        {
          "output_type": "stream",
          "name": "stdout",
          "text": [
            "skewness=1.13\n",
            "kurtosis=1.17\n",
            "covariance=8.32\n",
            "correlation=0.68\n",
            "\n",
            "Correlation between 'total_bill' and 'tip': 0.68\n"
          ]
        },
        {
          "output_type": "display_data",
          "data": {
            "text/plain": [
              "<Figure size 800x500 with 1 Axes>"
            ],
            "image/png": "[encoded data removed]"
          },
          "metadata": {}
        }
      ]
    },
    {
      "source": [
        "#ans 8"
      ],
      "cell_type": "code",
      "metadata": {
        "colab": {
          "base_uri": "https://localhost:8080/",
          "height": 110
        },
        "id": "LHhJAHA12YNz",
        "outputId": "55445f36-b4d3-4594-bcbb-90fa7d40ada6"
      },
      "execution_count": null,
      "outputs": [
        {
          "output_type": "error",
          "ename": "SyntaxError",
          "evalue": "expected ':' (<ipython-input-92-ffc44a70d668>, line 4)",
          "traceback": [
            "\u001b[0;36m  File \u001b[0;32m\"<ipython-input-92-ffc44a70d668>\"\u001b[0;36m, line \u001b[0;32m4\u001b[0m\n\u001b[0;31m    def normal_pdf(x,mean,std)\u001b[0m\n\u001b[0m                              ^\u001b[0m\n\u001b[0;31mSyntaxError\u001b[0m\u001b[0;31m:\u001b[0m expected ':'\n"
          ]
        }
      ]
    },
    {
      "cell_type": "code",
      "source": [
        "#ans 9"
      ],
      "metadata": {
        "id": "8Ekp4N4993Ic"
      },
      "execution_count": null,
      "outputs": []
    },
    {
      "cell_type": "code",
      "source": [
        "#ans 10"
      ],
      "metadata": {
        "id": "Py7o6V1X93dC"
      },
      "execution_count": null,
      "outputs": []
    },
    {
      "source": [
        "#ans 11\n",
        "import numpy as np\n",
        "from statsmodels.stats.proportion import proportions_ztest\n",
        "\n",
        "# 50 purchases out of 1000 visitors\n",
        "old_layout = np.array([1] * 50 + [0] * 950)\n",
        "# 70 purchases out of 1000 visitors\n",
        "new_layout = np.array([1] * 70 + [0] * 930)\n",
        "\n",
        "pura,purb=50,70\n",
        "visa, visb=1000,1000\n",
        "\n",
        "stat,p_value=proportions_ztest([pura,purb],[visa,visb])\n",
        "print(f\"Z-Statistic: {stat:.2f}, P-Value: {p_value:.4f}\")\n",
        "\n",
        "if p_value < 0.05:\n",
        "    # Indent this line\n",
        "    print(\"Reject the null hypothesis:\")\n",
        "else:\n",
        "    # Indent this line\n",
        "    print(\"Fail to reject the null hypothesis: No significant difference.\")"
      ],
      "cell_type": "code",
      "metadata": {
        "colab": {
          "base_uri": "https://localhost:8080/"
        },
        "id": "KEzAbv2jESIu",
        "outputId": "1cba0b94-1e25-475c-c007-2e2771aa028c"
      },
      "execution_count": null,
      "outputs": [
        {
          "output_type": "stream",
          "name": "stdout",
          "text": [
            "Z-Statistic: -1.88, P-Value: 0.0597\n",
            "Fail to reject the null hypothesis: No significant difference.\n"
          ]
        }
      ]
    },
    {
      "cell_type": "code",
      "source": [
        "import numpy as np\n",
        "from scipy.stats import norm\n",
        "\n",
        "# Exam scores before and after tutoring program\n",
        "before_program = np.array([75, 80, 85, 70, 90, 78, 92, 88, 82, 87])\n",
        "after_program = np.array([80, 85, 90, 80, 92, 80, 95, 90, 85, 88])\n",
        "\n",
        "# Compute differences in scores\n",
        "differences = after_program - before_program\n",
        "\n",
        "# Compute mean and standard deviation of differences\n",
        "mean_diff = np.mean(differences)\n",
        "std_diff = np.std(differences, ddof=1)  # Using ddof=1 for sample standard deviation\n",
        "\n",
        "# Sample size\n",
        "n = len(differences)\n",
        "\n",
        "# Compute z-score\n",
        "z_score = mean_diff / (std_diff / np.sqrt(n))\n",
        "\n",
        "# Compute p-value for one-tailed test (since we expect scores to improve)\n",
        "p_value = 1 - norm.cdf(z_score)\n",
        "\n",
        "# Print results\n",
        "print(f\"Z-score: {z_score:.4f}\")\n",
        "print(f\"P-value: {p_value:.4f}\")\n",
        "\n",
        "# Interpretation\n",
        "alpha = 0.05  # Significance level\n",
        "if p_value < alpha:\n",
        "    print(\"Reject the null hypothesis: The tutoring program significantly improves exam scores.\")\n",
        "else:\n",
        "    print(\"Fail to reject the null hypothesis: No significant improvement in exam scores.\")"
      ],
      "metadata": {
        "colab": {
          "base_uri": "https://localhost:8080/"
        },
        "id": "jHVl5TTYtXuj",
        "outputId": "a6ad67f2-79c9-45eb-933b-278192dec9c2"
      },
      "execution_count": 4,
      "outputs": [
        {
          "output_type": "stream",
          "name": "stdout",
          "text": [
            "Z-score: 4.5932\n",
            "P-value: 0.0000\n",
            "Reject the null hypothesis: The tutoring program significantly improves exam scores.\n"
          ]
        }
      ]
    },
    {
      "cell_type": "code",
      "source": [
        "#ans 13\n",
        "import numpy as np\n",
        "from scipy.stats import norm\n",
        "\n",
        "# Blood pressure before and after taking the drug\n",
        "before_drug = np.array([145, 150, 140, 135, 155, 160, 152, 148, 130, 138])\n",
        "after_drug = np.array([130, 140, 132, 128, 145, 148, 138, 136, 125, 130])\n",
        "\n",
        "# Compute differences\n",
        "differences = before_drug - after_drug\n",
        "\n",
        "# Calculate mean and standard deviation of differences\n",
        "mean_diff = np.mean(differences)\n",
        "std_diff = np.std(differences, ddof=1)  # Using ddof=1 for sample standard deviation\n",
        "\n",
        "# Sample size\n",
        "n = len(differences)\n",
        "\n",
        "# Compute z-score\n",
        "z_score = mean_diff / (std_diff / np.sqrt(n))\n",
        "\n",
        "# Compute p-value for one-tailed test (since we expect a reduction in BP)\n",
        "p_value = 1 - norm.cdf(z_score)\n",
        "\n",
        "# Print results\n",
        "print(f\"Z-score: {z_score:.4f}\")\n",
        "print(f\"P-value: {p_value:.4f}\")\n",
        "\n",
        "# Interpretation\n",
        "alpha = 0.05  # Significance level\n",
        "if p_value < alpha:\n",
        "    print(\"Reject the null hypothesis: The drug significantly reduces blood pressure.\")\n",
        "else:\n",
        "    print(\"Fail to reject the null hypothesis: The drug does not significantly reduce blood pressure.\")"
      ],
      "metadata": {
        "colab": {
          "base_uri": "https://localhost:8080/"
        },
        "id": "EQEVUmdlrnQC",
        "outputId": "d334b084-dd4e-4d80-8aaa-d26cfd0fc08b"
      },
      "execution_count": 3,
      "outputs": [
        {
          "output_type": "stream",
          "name": "stdout",
          "text": [
            "Z-score: 10.0499\n",
            "P-value: 0.0000\n",
            "Reject the null hypothesis: The drug significantly reduces blood pressure.\n"
          ]
        }
      ]
    },
    {
      "cell_type": "code",
      "source": [
        "import numpy as np\n",
        "from scipy.stats import norm\n",
        "\n",
        "# Response times sample data\n",
        "response_times = np.array([4.3, 3.8, 5.1, 4.9, 4.7, 4.2, 5.2, 4.5, 4.6, 4.4])\n",
        "\n",
        "# Population mean (claimed response time)\n",
        "mu = 5\n",
        "\n",
        "# Sample statistics\n",
        "sample_mean = np.mean(response_times)\n",
        "sample_std = np.std(response_times, ddof=1)  # Using ddof=1 for sample standard deviation\n",
        "n = len(response_times)\n",
        "\n",
        "# Compute z-score\n",
        "z_score = (sample_mean - mu) / (sample_std / np.sqrt(n))\n",
        "\n",
        "# Compute p-value for one-tailed test (checking if the mean is significantly less than 5 minutes)\n",
        "p_value = norm.cdf(z_score)\n",
        "\n",
        "# Print results\n",
        "print(f\"Z-score: {z_score:.4f}\")\n",
        "print(f\"P-value: {p_value:.4f}\")\n",
        "\n",
        "# Interpretation\n",
        "alpha = 0.05  # Significance level\n",
        "if p_value < alpha:\n",
        "    print(\"Reject the null hypothesis: The average response time is significantly less than 5 minutes.\")\n",
        "else:\n",
        "    print(\"Fail to reject the null hypothesis: No significant evidence that the average response time is less than 5 minutes.\")"
      ],
      "metadata": {
        "colab": {
          "base_uri": "https://localhost:8080/"
        },
        "id": "SWAgfCUYwsaD",
        "outputId": "6346499e-b272-49de-cbb3-7bb0e734232d"
      },
      "execution_count": 5,
      "outputs": [
        {
          "output_type": "stream",
          "name": "stdout",
          "text": [
            "Z-score: -3.1845\n",
            "P-value: 0.0007\n",
            "Reject the null hypothesis: The average response time is significantly less than 5 minutes.\n"
          ]
        }
      ]
    },
    {
      "cell_type": "code",
      "source": [
        "import numpy as np\n",
        "from scipy.stats import ttest_ind\n",
        "\n",
        "# Click-through rates for both layouts\n",
        "layout_a_clicks = np.array([28, 32, 33, 29, 31, 34, 30, 35, 36, 37])\n",
        "layout_b_clicks = np.array([40, 41, 38, 42, 39, 44, 43, 41, 45, 47])\n",
        "\n",
        "\n",
        "t_stat, p_value = ttest_ind(layout_b_clicks, layout_a_clicks, equal_var=False)\n",
        "\n",
        "# Print results\n",
        "print(f\"T-statistic: {t_stat:.4f}\")\n",
        "print(f\"P-value: {p_value:.4f}\")\n",
        "\n",
        "# Interpretation\n",
        "alpha = 0.05  # Significance level\n",
        "if p_value < alpha:\n",
        "    print(\"Reject the null hypothesis: Layout B significantly improves click-through rates.\")\n",
        "else:\n",
        "    print(\"Fail to reject the null hypothesis: No significant improvement with Layout B.\")"
      ],
      "metadata": {
        "colab": {
          "base_uri": "https://localhost:8080/"
        },
        "id": "44NpB4EIZcvU",
        "outputId": "da14eea6-6abd-4d70-af1c-e490b1064866"
      },
      "execution_count": 6,
      "outputs": [
        {
          "output_type": "stream",
          "name": "stdout",
          "text": [
            "T-statistic: 7.2981\n",
            "P-value: 0.0000\n",
            "Reject the null hypothesis: Layout B significantly improves click-through rates.\n"
          ]
        }
      ]
    },
    {
      "cell_type": "code",
      "source": [
        "#ans 16\n",
        "from scipy.stats import ttest_ind\n",
        "import numpy as np\n",
        "existing_drug_levels = np.array([180, 182, 175, 185, 178, 176, 172, 184, 179, 183])\n",
        "new_drug_levels =np.array ([170, 172, 165, 168, 175, 173, 170, 178, 172, 176])\n",
        "t_test,p_value=ttest_ind(existing_drug_levels,new_drug_levels,equal_var=True )\n",
        "print(f\"test={t_test:.2f}\")\n",
        "print(f\"p_value={p_value:.2f}\")\n",
        "alpha=0.05\n",
        "if p_value<alpha:\n",
        "   print(\"reject null hypothesis\")\n",
        "else:\n",
        "   print(\"fail to reject, new drug more effective\")"
      ],
      "metadata": {
        "colab": {
          "base_uri": "https://localhost:8080/"
        },
        "id": "HgLtejyAAHzL",
        "outputId": "80b016e9-18ad-45dc-f384-7bcaa4971309"
      },
      "execution_count": 13,
      "outputs": [
        {
          "output_type": "stream",
          "name": "stdout",
          "text": [
            "test=4.14\n",
            "p_value=0.00\n",
            "reject null hypothesis\n"
          ]
        }
      ]
    },
    {
      "cell_type": "code",
      "source": [],
      "metadata": {
        "id": "Ini7C1fsHwv5"
      },
      "execution_count": null,
      "outputs": []
    },
    {
      "cell_type": "code",
      "source": [
        "#ans 17\n",
        "import numpy as np\n",
        "from scipy . stats import ttest_ind\n",
        "pre_intervention_scores =np.array( [80, 85, 90, 75, 88, 82, 92, 78, 85, 87])\n",
        "post_intervention_scores =np.array([90, 92, 88, 92, 95, 91, 96, 93, 89, 93])\n",
        "ttest,pval=ttest_ind(pre_intervention_scores,post_intervention_scores,equal_var=True)\n",
        "print(f\"test={ttest:.2f}\")\n",
        "print(f\"pval={pval:.2f}\")\n",
        "alpha=0.05\n",
        "if p_value<alpha:\n",
        " print(\"reject null hypothesis\")\n",
        "else:\n",
        " print(\"fail to reject, new drug more effective\")\n",
        "\n"
      ],
      "metadata": {
        "colab": {
          "base_uri": "https://localhost:8080/"
        },
        "id": "iYU6E2ZeDK7J",
        "outputId": "67006596-66e5-4336-fc88-6357d4f1d9ab"
      },
      "execution_count": 17,
      "outputs": [
        {
          "output_type": "stream",
          "name": "stdout",
          "text": [
            "test=-4.08\n",
            "pval=0.00\n",
            "reject null hypothesis\n"
          ]
        }
      ]
    },
    {
      "cell_type": "code",
      "source": [
        "#ans 18\n",
        "import numpy as np\n",
        "from scipy.stats import ttest_ind\n",
        "\n",
        "# Generate synthetic salary data for male and female employees\n",
        "np.random.seed(0)  # For reproducibility\n",
        "male_salaries = np.random.normal(loc=50000, scale=10000, size=20)\n",
        "female_salaries = np.random.normal(loc=55000, scale=9000, size=20)\n",
        "\n",
        "\n",
        "t_stat, p_value = ttest_ind(female_salaries, male_salaries, equal_var=False)\n",
        "\n",
        "# Print results\n",
        "print(f\"T-statistic: {t_stat:.4f}\")\n",
        "print(f\"P-value: {p_value:.4f}\")\n",
        "\n",
        "# Interpretation\n",
        "alpha = 0.05  # Significance level\n",
        "if p_value < alpha:\n",
        "    print(\"Reject the null hypothesis: There is a significant gender-based salary gap.\")\n",
        "else:\n",
        "    print(\"Fail to reject the null hypothesis: No significant evidence of a salary gap.\")"
      ],
      "metadata": {
        "colab": {
          "base_uri": "https://localhost:8080/"
        },
        "id": "Ijr3xlaDFjAl",
        "outputId": "94744bd8-37c1-4ae5-c303-ccd0edde84ae"
      },
      "execution_count": 18,
      "outputs": [
        {
          "output_type": "stream",
          "name": "stdout",
          "text": [
            "T-statistic: -0.0611\n",
            "P-value: 0.9516\n",
            "Fail to reject the null hypothesis: No significant evidence of a salary gap.\n"
          ]
        }
      ]
    },
    {
      "cell_type": "code",
      "source": [
        "import numpy as np\n",
        "from scipy.stats import ttest_ind\n",
        "\n",
        "# Generate synthetic salary data for male and female employees\n",
        "np.random.seed(0)  # For reproducibility\n",
        "version1_scores = np.array([85, 88, 82, 89, 87, 84, 90, 88, 85, 86, 91, 83, 87, 84, 89, 86, 84, 88, 85, 86, 89, 90, 87, 88, 85])\n",
        "version2_scores =np.array( [80, 78, 83, 81, 79, 82, 76, 80, 78, 81, 77, 82, 80, 79, 82, 79, 80, 81, 79, 82, 79, 78, 80, 81, 82])\n",
        "\n",
        "# Perform independent t-test (Welch’s t-test for unequal variances)\n",
        "t_stat, p_value = ttest_ind(version1_scores,version2_scores, equal_var=False)\n",
        "\n",
        "# Print results\n",
        "print(f\"T-statistic: {t_stat:.4f}\")\n",
        "print(f\"P-value: {p_value:.4f}\")\n",
        "\n",
        "# Interpretation\n",
        "alpha = 0.05  # Significance level\n",
        "if p_value < alpha:\n",
        "    print(\"Reject the null hypothesis: .\")\n",
        "else:\n",
        "    print(\"Fail to reject the null hypothesis: .\")"
      ],
      "metadata": {
        "colab": {
          "base_uri": "https://localhost:8080/"
        },
        "id": "K-zlx6StHybc",
        "outputId": "736e5894-0524-421e-91bd-8cb7b8abeabd"
      },
      "execution_count": 21,
      "outputs": [
        {
          "output_type": "stream",
          "name": "stdout",
          "text": [
            "T-statistic: 11.3258\n",
            "P-value: 0.0000\n",
            "Reject the null hypothesis: .\n"
          ]
        }
      ]
    },
    {
      "cell_type": "code",
      "source": [
        "#ans 21\n",
        "import numpy as np\n",
        "import pandas as pd\n",
        "from scipy .stats import chi2_contingency\n",
        "np.random.seed(0)\n",
        "age_groups = np.random.choice(['18-30', '31-50', '51+', '51+'], size=30)\n",
        "voter_preferences = np.random.choice(['Candidate A', 'Candidate B'], size=30)\n",
        "contingency_table=pd.crosstab(age_groups,voter_preferences)\n",
        "\n",
        "sta,pva,dof,excepted=chi2_contingency(contingency_table)\n",
        "print(f\"chi={sta:.2f}\")\n",
        "print(f\"pval={pva:.2f}\")\n",
        "if pva<0.05:\n",
        " print(\"reject null hypothesis\")\n",
        "else:\n",
        " print(\"fail to reject, new drug more effective\")\n",
        "\n",
        "\n",
        "\n",
        "\n"
      ],
      "metadata": {
        "colab": {
          "base_uri": "https://localhost:8080/"
        },
        "id": "fuZUVmPIIc04",
        "outputId": "412fd14c-1b5b-4894-f988-136aae94b0d1"
      },
      "execution_count": 28,
      "outputs": [
        {
          "output_type": "stream",
          "name": "stdout",
          "text": [
            "chi=1.09\n",
            "pval=0.58\n",
            "fail to reject, new drug more effective\n"
          ]
        }
      ]
    },
    {
      "cell_type": "code",
      "source": [
        "#ans 22\n",
        "import numpy as np\n",
        "from scipy.stats import chi2_contingency\n",
        "\n",
        "# Sample data: Satisfaction levels (rows) vs. Customer regions (columns)\n",
        "data = np.array([\n",
        "    [50, 30, 40, 20],  # Satisfied\n",
        "    [30, 40, 30, 50],  # Neutral\n",
        "    [20, 30, 40, 30]   # Dissatisfied\n",
        "])\n",
        "\n",
        "# Perform the Chi-Square test\n",
        "chi2_stat, p_value, dof, expected = chi2_contingency(data)\n",
        "\n",
        "# Print results\n",
        "print(f\"Chi-Square Statistic: {chi2_stat:.4f}\")\n",
        "print(f\"P-value: {p_value:.4f}\")\n",
        "print(f\"Degrees of Freedom: {dof}\")\n",
        "print(\"Expected Frequencies:\")\n",
        "print(expected)\n",
        "\n",
        "# Interpretation\n",
        "alpha = 0.05  # Significance level\n",
        "if p_value < alpha:\n",
        "    print(\"Reject the null hypothesis: There is a significant relationship between product satisfaction levels and customer regions.\")\n",
        "else:\n",
        "    print(\"Fail to reject the null hypothesis: No significant relationship between product satisfaction levels and customer regions.\")"
      ],
      "metadata": {
        "colab": {
          "base_uri": "https://localhost:8080/"
        },
        "id": "OHouGva4MvDA",
        "outputId": "81d57842-69dc-4138-bea9-ab6c7765845d"
      },
      "execution_count": 29,
      "outputs": [
        {
          "output_type": "stream",
          "name": "stdout",
          "text": [
            "Chi-Square Statistic: 27.7771\n",
            "P-value: 0.0001\n",
            "Degrees of Freedom: 6\n",
            "Expected Frequencies:\n",
            "[[34.14634146 34.14634146 37.56097561 34.14634146]\n",
            " [36.58536585 36.58536585 40.24390244 36.58536585]\n",
            " [29.26829268 29.26829268 32.19512195 29.26829268]]\n",
            "Reject the null hypothesis: There is a significant relationship between product satisfaction levels and customer regions.\n"
          ]
        }
      ]
    },
    {
      "cell_type": "code",
      "source": [
        "import numpy as np\n",
        "from scipy.stats import chi2_contingency\n",
        "\n",
        "# Sample data: Job performance before (rows) and after (columns) training\n",
        "data = np.array([\n",
        "    [50, 30, 20],  # Effective before, classified after training\n",
        "    [30, 40, 30],  # Neutral before, classified after training\n",
        "    [20, 30, 40]   # Ineffective before, classified after training\n",
        "])\n",
        "\n",
        "# Perform the Chi-Square test\n",
        "chi2_stat, p_value, dof, expected = chi2_contingency(data)\n",
        "\n",
        "# Print results\n",
        "print(f\"Chi-Square Statistic: {chi2_stat:.4f}\")\n",
        "print(f\"P-value: {p_value:.4f}\")\n",
        "print(f\"Degrees of Freedom: {dof}\")\n",
        "print(\"Expected Frequencies:\")\n",
        "print(expected)\n",
        "\n",
        "# Interpretation\n",
        "alpha = 0.05  # Significance level\n",
        "if p_value < alpha:\n",
        "    print(\"Reject the null hypothesis: Training has a significant impact on job performance.\")\n",
        "else:\n",
        "    print(\"Fail to reject the null hypothesis: No significant impact of training on job performance.\")"
      ],
      "metadata": {
        "colab": {
          "base_uri": "https://localhost:8080/"
        },
        "id": "0ROA3dR1NG9G",
        "outputId": "b8354afb-bfd5-4baa-990f-9e79f71e6401"
      },
      "execution_count": 30,
      "outputs": [
        {
          "output_type": "stream",
          "name": "stdout",
          "text": [
            "Chi-Square Statistic: 22.1617\n",
            "P-value: 0.0002\n",
            "Degrees of Freedom: 4\n",
            "Expected Frequencies:\n",
            "[[34.48275862 34.48275862 31.03448276]\n",
            " [34.48275862 34.48275862 31.03448276]\n",
            " [31.03448276 31.03448276 27.93103448]]\n",
            "Reject the null hypothesis: Training has a significant impact on job performance.\n"
          ]
        }
      ]
    },
    {
      "cell_type": "code",
      "source": [
        "import numpy as np\n",
        "from scipy.stats import f_oneway\n",
        "\n",
        "\n",
        "standard_scores = np.array([80, 85, 90, 78, 88, 82, 92, 78, 85, 87])\n",
        "premium_scores = np.array([90, 92, 88, 92, 95, 91, 96, 93, 89, 93])\n",
        "deluxe_scores = np.array([95, 98, 92, 97, 96, 94, 98, 97, 92, 99])\n",
        "\n",
        "# Perform one-way ANOVA test\n",
        "f_statistic, p_value = f_oneway(standard_scores, premium_scores, deluxe_scores)\n",
        "\n",
        "# Print results\n",
        "print(f\"F-statistic: {f_statistic:.4f}\")\n",
        "print(f\"P-value: {p_value:.4f}\")\n",
        "\n",
        "# Interpretation\n",
        "alpha = 0.05  # Significance level\n",
        "if p_value < alpha:\n",
        "    print(\"Reject the null hypothesis: There is a significant difference in customer satisfaction among product versions.\")\n",
        "else:\n",
        "    print(\"Fail to reject the null hypothesis: No significant difference in customer satisfaction across product versions.\")"
      ],
      "metadata": {
        "colab": {
          "base_uri": "https://localhost:8080/"
        },
        "id": "TJwpFRZeNq6R",
        "outputId": "28d7f201-c5dd-4938-ae14-95a940cce90a"
      },
      "execution_count": 31,
      "outputs": [
        {
          "output_type": "stream",
          "name": "stdout",
          "text": [
            "F-statistic: 27.0356\n",
            "P-value: 0.0000\n",
            "Reject the null hypothesis: There is a significant difference in customer satisfaction among product versions.\n"
          ]
        }
      ]
    },
    {
      "cell_type": "code",
      "source": [],
      "metadata": {
        "id": "mBTa3vlTNZJh"
      },
      "execution_count": null,
      "outputs": []
    }
  ]
}